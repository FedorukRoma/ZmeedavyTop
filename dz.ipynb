{
 "cells": [
  {
   "cell_type": "markdown",
   "metadata": {},
   "source": [
    "**Задание 1**. Даны 2 строки: *long_phrase* и *short_phrase*. \n",
    "Напишите код, который проверяет действительно ли длинная фраза *long_phrase* длиннее короткой *short_phrase*. И выводит *True* или *False* в зависимости от результата сравнения."
   ]
  },
  {
   "cell_type": "code",
   "execution_count": null,
   "metadata": {},
   "outputs": [],
   "source": [
    "long_phrase = 'Насколько проще было бы писать программы, если бы не заказчики'\n",
    "short_phrase = '640Кб должно хватить для любых задач. Билл Гейтс (по легенде)'"
   ]
  },
  {
   "cell_type": "code",
   "execution_count": 10,
   "metadata": {},
   "outputs": [
    {
     "name": "stdout",
     "output_type": "stream",
     "text": [
      "False\n"
     ]
    }
   ],
   "source": [
    "long_phrase  = len('Насколько проще было бы писать программы, если бы не заказчики') \n",
    "short_phrase = len('640Кб должно хватить для любых задач. Билл Гейтс (по легенде)')\n",
    "if long_phrase > short_phrase:\n",
    "    print(\"True\")\n",
    "else:\n",
    "    print(\"False\")"
   ]
  },
  {
   "cell_type": "markdown",
   "metadata": {},
   "source": [
    "**Задание 2**. Дано значение объема файла в байтах (*в мегабайте 2^20 байт*). Напишите перевод этого значения в мегабайты в формате: \"*Объем файла равен 213.68Mb*\"."
   ]
  },
  {
   "cell_type": "code",
   "execution_count": 18,
   "metadata": {},
   "outputs": [
    {
     "name": "stdout",
     "output_type": "stream",
     "text": [
      "213.68\n"
     ]
    }
   ],
   "source": [
    "a = 224059719.68\n",
    "b = a / 2**20\n",
    "print(b)"
   ]
  },
  {
   "cell_type": "markdown",
   "metadata": {},
   "source": [
    "**Задание 3**. Разработать приложение для определения знака зодиака по дате рождения. Пример:\n",
    "\n",
    "Введите месяц: март\n",
    "\n",
    "Введите число: 6\n",
    "\n",
    "Вывод:\n",
    "Рыбы"
   ]
  },
  {
   "cell_type": "code",
   "execution_count": 29,
   "metadata": {},
   "outputs": [
    {
     "name": "stdout",
     "output_type": "stream",
     "text": [
      "Введите месяц 3\n",
      "Введите число 23\n",
      "Овен\n"
     ]
    }
   ],
   "source": [
    "month = int(input('Введите месяц '))\n",
    "date = int(input('Введите число '))\n",
    "if ((date >= 21 and date <= 31 and month==3) or (month == 4 and date >=1 and date<=20)):\n",
    "   print(\"Овен\")\n",
    "elif ((date >= 21 and date <= 30 and month==4) or (month == 5 and date >=1 and date<=20)):\n",
    "   print(\"Телец\")\n",
    "elif ((date >= 21 and date <= 31 and month==5) or (month == 6 and date >=1 and date<=21)):\n",
    "   print(\"Близнецы\")\n",
    "elif ((date >= 21 and date <= 30 and month==6) or (month == 7 and date >=1 and date<=22)):\n",
    "   print(\"Рак\")\n",
    "elif ((date >= 21 and date <= 31 and month==7) or (month == 8 and date >=1 and date<=23)):\n",
    "   print(\"Лев\")\n",
    "elif ((date >= 21 and date <= 31 and month==8) or (month == 9 and date >=1 and date<=23)):\n",
    "   print(\"Дева\")\n",
    "elif ((date >= 21 and date <= 30 and month==9) or (month == 10 and date >=1 and date<=23)):\n",
    "   print(\"Весы\")\n",
    "elif ((date >= 21 and date <= 31 and month==10) or (month == 11 and date >=1 and date<=22)):\n",
    "   print(\"Скорпион\")\n",
    "elif ((date >= 21 and date <= 30 and month==11) or (month == 12 and date >=1 and date<=21)):\n",
    "   print(\"Стрелец\")\n",
    "elif ((date >= 21 and date <= 31 and month==12) or (month == 1 and date >=1 and date<=20)):\n",
    "   print(\"Козерог\")\n",
    "elif ((date >= 21 and date <= 30 and month==1) or (month == 2 and date >=1 and date<=20)):\n",
    "   print(\"Водолей\")\n",
    "elif ((date >= 21 and date <= 28 and month==2) or (month == 3 and date >=1 and date<=20)):\n",
    "   print(\"Рыбы\")"
   ]
  },
  {
   "cell_type": "markdown",
   "metadata": {},
   "source": [
    "**Задание 4**. Нужно разработать приложение для финансового планирования.\n",
    "Приложение учитывает сколько уходит на ипотеку, \"на жизнь\" и сколько нужно отложить на пенсию.\n",
    "Пользователь вводит:\n",
    "- заработанную плату в месяц.\n",
    "- сколько процентов от ЗП уходит на ипотеку.\n",
    "- сколько процентов от ЗП уходит \"на жизнь\".\n",
    "- сколько раз приходит премия в год.\n",
    "\n",
    "Остальная часть заработанной платы откладывается на пенсию.\n",
    "\n",
    "Также пользователю приходит премия в размере зарплаты, от которой половина уходит на отпуск, а вторая половина откладывается.\n",
    "\n",
    "Программа должна учитывать сколько премий было в год.\n",
    "\n",
    "Нужно вывести сколько денег тратит пользователь на ипотеку и сколько он накопит за год.\n",
    "\n",
    "Пример:\n",
    "\n",
    "Введите заработанную плату в месяц: 100000\n",
    "\n",
    "Введите сколько процентов уходит на ипотеку: 30\n",
    "\n",
    "Введите сколько процентов уходит на жизнь: 50\n",
    "\n",
    "Введите количество премий за год: 2\n",
    "\n",
    "Вывод:\n",
    "На ипотеку было потрачено: 360000 рублей\n",
    "Было накоплено: 340000 рублей"
   ]
  },
  {
   "cell_type": "code",
   "execution_count": null,
   "metadata": {},
   "outputs": [],
   "source": []
  }
 ],
 "metadata": {
  "kernelspec": {
   "display_name": "Python 3",
   "language": "python",
   "name": "python3"
  },
  "language_info": {
   "codemirror_mode": {
    "name": "ipython",
    "version": 3
   },
   "file_extension": ".py",
   "mimetype": "text/x-python",
   "name": "python",
   "nbconvert_exporter": "python",
   "pygments_lexer": "ipython3",
   "version": "3.8.3"
  }
 },
 "nbformat": 4,
 "nbformat_minor": 2
}
